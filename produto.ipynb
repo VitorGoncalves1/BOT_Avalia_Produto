{
 "cells": [
  {
   "cell_type": "code",
   "execution_count": 2,
   "metadata": {},
   "outputs": [
    {
     "name": "stdout",
     "output_type": "stream",
     "text": [
      "Robo iniciando pesquisas......\n",
      "\n",
      "--------- Mercado Livre ---------\n",
      "\n",
      "Capa Couro Para Capa Tipo Carteira Anti-queda Para iPhone  - R$: 113.0 - Link: https://click1.mercadolivre.com.br/mclics/clicks/external/MLB/count?a=KCodNRNrYKujvXgnnvk5uOiqSqBLcOz%2FWanwXb1dhoxnMDPSXfg8TItMz%2FbJ8vl%2BLSuSasRS5pIE%2FaPRmw2l4dIlr12w6PnvnH1eegaMob45a8FuEVtbJTIBAQY4taqjs0nrCMi%2Fu0XUOyA%2FSAMqhzTBYckUEbHnKohqyvxeOUPksrFUtP1SAt8liNZ%2F6XpHiu%2B1QyMyioPsIt5APEtDCaZd6CtbK1OiWrINkDwIJKOnJCfgTeVMxrMYeQWEBnpjdFZ7sRpjxTAOFPt1qGYmQVoZzYrdBPTSHwUjEWfWqTJOAw%2FN8mSvOZ9kXGxzltt6REsedwvHDGIx2KK64nILJBgsvutif2ifFA6nizwZ%2BfsO5VH9McNCU60DBsd%2BRg1CKA%2BGIG01UH9iMZRBjQuPC2gSHFQJK%2BXjmtEGeH4ynr44Zym%2BT3rPfwDGKpZb1T4rJkbcnBg%2F3BnP9OcqDKCjCNlAve86aX3TF34hMtRzrcOL99iGl68iGKQ2L9IWSKQGD%2BAtouS3Ngdmbz8eTHyqBDckOJ9aTPZftDnhHiMcjPe4vZ2fMvyFoywQx%2FySnRfVnjPR8sEXJitUazaIcTnBrZtwmzezuaOTF0%2F0q4t5qcXbE2Iph%2Bfi4iD8U7hpwHNXmAT1WSCVvZ1iHNQJZBFjqnkWYtWfOvf3ywE65QXQEf0OqJDdYHwpSDLnAzZteTUNImGEmiwM84TMuqcvYf3fqC2L7Q82VlmE6kqptuJVWZxZTDoqcwoSf8awfNeKm42On%2FkjYSsG6mh2HT3Sn6TbCRFqeMrLElb62p82ovXzDe1%2FnlwzsCBEw4bQIvWdYKWoIcDYCf86XoTeOLAWoap%2F9xk5oW5drHUQ1iUfZDgpkjMe%2Bw%3D%3D&rb=x#polycard_client=search-nordic&tracking_id=18ab4ec8-49e4-4f41-9239-68a7b3eead1c \n"
     ]
    },
    {
     "data": {
      "text/html": [
       "<img src=\"https://http2.mlstatic.com/D_Q_NP_2X_698737-CBT79316507434_092024-V.webp\" width=\"150\" height=\"150\"/>"
      ],
      "text/plain": [
       "<IPython.core.display.Image object>"
      ]
     },
     "metadata": {},
     "output_type": "display_data"
    },
    {
     "name": "stdout",
     "output_type": "stream",
     "text": [
      "\n",
      "\n",
      "Suporte De Saco De Cartão Zfold6 Para Celular Samsung  - R$: 155.0 - Link: https://click1.mercadolivre.com.br/mclics/clicks/external/MLB/count?a=PAsibn73rSRG6SWtzp4%2BsEU%2FqO27EzYMJiVb6btDcH286k%2FB5DB36TQFtOFKfbmD1sQ89EhuGB8388cbSmjh6Dpkf4kOtGqGj%2Bgm637XcMB%2Bie2oibHSj2%2FpO6GugzLINZDGuIPA%2Bc%2FJ3z4AEvfzfTe4ZHWnirhcxLGl%2BZ62IgTE6vyGa7rnEfc90v2MOXHCwxHDJZABRadVxhf53Ss%2BoNIHWglq52uXW7hs%2F7pdB9MKJvOHMpZhmYOJnM6OeqSlzDo1UTdQjB2BwfWCNOWefUSD4D3G7PrvbTIDRHpsrZ67kkFWH5Gtz%2BJGT6dtufpVjUURjC3TOH9NUCrsA6KFAf977ulQYDYW5OML8ZFJvwUaxxlRY0JcVZTiPTLvVL05d%2B2RtZCeVmw2uwfLHK%2FNyngAukpn4oi9m4AF7ca5HsT40k%2Bwp8yR%2FVs%2BJYgS1H7iAn3HfMklJh%2BtJAqFk1YmqVkFDKxg4KT2uOFZF4Jn4qtvd1oeHWAK2NVrjfM7pe1g39VzRZKoWwJmknxkiTHpBWZe20%2BfdFrYTLHHw2UVeZWN8rAZjEn2KmXjgaYchNg5ve8pxfhG2elqvaPINZs4GPKcSuFvFy%2BZSFdPUHUS8nW9xSkTzECy2ue%2FAU5AaT2qyqtVDevixWkkyaxiapGVommsd3QdVtNrsvjZ%2BM93OcKCGWU6HYLXM9xjck7oSP80zbicoW%2BN40RD7EPLRGE8Gizvl95ppzYuJKCNVLB4by5I40trczf2cLCXg%2BsBU1jtJseWbNBJl0xJYchveihuGI%2BdY6MDayxI9C4F%2FzeCcxf7GNva8FUnivUb03eObEcVVInWh%2BS4kVW4%2BYoo8ijbf9G9lprqXnDkSeGHkQw%3D&rb=x#polycard_client=search-nordic&tracking_id=18ab4ec8-49e4-4f41-9239-68a7b3eead1c \n"
     ]
    },
    {
     "data": {
      "text/html": [
       "<img src=\"https://http2.mlstatic.com/D_Q_NP_2X_631811-CBT78029655425_072024-V.webp\" width=\"150\" height=\"150\"/>"
      ],
      "text/plain": [
       "<IPython.core.display.Image object>"
      ]
     },
     "metadata": {},
     "output_type": "display_data"
    },
    {
     "name": "stdout",
     "output_type": "stream",
     "text": [
      "\n",
      "\n",
      "Apple iPhone 16 (128 GB) - Preto - Distribuidor Autorizado  - R$: 5.698 - Link: https://www.mercadolivre.com.br/apple-iphone-16-128-gb-preto-distribuidor-autorizado/p/MLB1040287808#polycard_client=search-nordic&searchVariation=MLB1040287808&wid=MLB5120546360&position=4&search_layout=stack&type=product&tracking_id=18ab4ec8-49e4-4f41-9239-68a7b3eead1c&sid=search \n"
     ]
    },
    {
     "data": {
      "text/html": [
       "<img src=\"https://http2.mlstatic.com/D_Q_NP_2X_928475-MLA78901058072_092024-V.webp\" width=\"150\" height=\"150\"/>"
      ],
      "text/plain": [
       "<IPython.core.display.Image object>"
      ]
     },
     "metadata": {},
     "output_type": "display_data"
    },
    {
     "name": "stdout",
     "output_type": "stream",
     "text": [
      "\n",
      "\n",
      "Apple iPhone 16 (128 GB) - Rosa - Distribuidor Autorizado  - R$: 5.698 - Link: https://www.mercadolivre.com.br/apple-iphone-16-128-gb-rosa-distribuidor-autorizado/p/MLB1040287802#polycard_client=search-nordic&searchVariation=MLB1040287802&wid=MLB5120624320&position=5&search_layout=stack&type=product&tracking_id=18ab4ec8-49e4-4f41-9239-68a7b3eead1c&sid=search \n"
     ]
    },
    {
     "data": {
      "text/html": [
       "<img src=\"https://http2.mlstatic.com/D_Q_NP_2X_653577-MLA79138737401_092024-V.webp\" width=\"150\" height=\"150\"/>"
      ],
      "text/plain": [
       "<IPython.core.display.Image object>"
      ]
     },
     "metadata": {},
     "output_type": "display_data"
    },
    {
     "name": "stdout",
     "output_type": "stream",
     "text": [
      "\n",
      "\n",
      "Apple iPhone 16 (128 GB) - Branco - Distribuidor Autorizado  - R$: 5.698 - Link: https://www.mercadolivre.com.br/apple-iphone-16-128-gb-branco-distribuidor-autorizado/p/MLB1040287791#polycard_client=search-nordic&searchVariation=MLB1040287791&wid=MLB5120584956&position=6&search_layout=stack&type=product&tracking_id=18ab4ec8-49e4-4f41-9239-68a7b3eead1c&sid=search \n"
     ]
    },
    {
     "data": {
      "text/html": [
       "<img src=\"https://http2.mlstatic.com/D_Q_NP_2X_894637-MLA79138856715_092024-V.webp\" width=\"150\" height=\"150\"/>"
      ],
      "text/plain": [
       "<IPython.core.display.Image object>"
      ]
     },
     "metadata": {},
     "output_type": "display_data"
    },
    {
     "name": "stdout",
     "output_type": "stream",
     "text": [
      "\n",
      "\n",
      "Apple iPhone 16 (128 GB) - Verde-acinzentado - Distribuidor Autorizado  - R$: 5.698 - Link: https://www.mercadolivre.com.br/apple-iphone-16-128-gb-verde-acinzentado-distribuidor-autorizado/p/MLB1040287792#polycard_client=search-nordic&searchVariation=MLB1040287792&wid=MLB3931271317&position=7&search_layout=stack&type=product&tracking_id=18ab4ec8-49e4-4f41-9239-68a7b3eead1c&sid=search \n"
     ]
    },
    {
     "data": {
      "text/html": [
       "<img src=\"https://http2.mlstatic.com/D_Q_NP_2X_609117-MLA78900901098_092024-V.webp\" width=\"150\" height=\"150\"/>"
      ],
      "text/plain": [
       "<IPython.core.display.Image object>"
      ]
     },
     "metadata": {},
     "output_type": "display_data"
    },
    {
     "name": "stdout",
     "output_type": "stream",
     "text": [
      "\n",
      "\n",
      "Apple iPhone 16 (256 GB) - Verde-acinzentado - Distribuidor Autorizado  - R$: 6.598 - Link: https://www.mercadolivre.com.br/apple-iphone-16-256-gb-verde-acinzentado-distribuidor-autorizado/p/MLB1040287804#polycard_client=search-nordic&searchVariation=MLB1040287804&wid=MLB5217739938&position=8&search_layout=stack&type=product&tracking_id=18ab4ec8-49e4-4f41-9239-68a7b3eead1c&sid=search \n"
     ]
    },
    {
     "data": {
      "text/html": [
       "<img src=\"https://http2.mlstatic.com/D_Q_NP_2X_609117-MLA78900901098_092024-V.webp\" width=\"150\" height=\"150\"/>"
      ],
      "text/plain": [
       "<IPython.core.display.Image object>"
      ]
     },
     "metadata": {},
     "output_type": "display_data"
    },
    {
     "name": "stdout",
     "output_type": "stream",
     "text": [
      "\n",
      "\n",
      "Apple iPhone 16 (256 GB) - Rosa  - R$: 6.599 - Link: https://www.mercadolivre.com.br/apple-iphone-16-256-gb-rosa/p/MLB40287790#polycard_client=search-nordic&searchVariation=MLB40287790&wid=MLB5217693736&position=9&search_layout=stack&type=product&tracking_id=18ab4ec8-49e4-4f41-9239-68a7b3eead1c&sid=search \n"
     ]
    },
    {
     "data": {
      "text/html": [
       "<img src=\"https://http2.mlstatic.com/D_Q_NP_2X_653577-MLA79138737401_092024-V.webp\" width=\"150\" height=\"150\"/>"
      ],
      "text/plain": [
       "<IPython.core.display.Image object>"
      ]
     },
     "metadata": {},
     "output_type": "display_data"
    },
    {
     "name": "stdout",
     "output_type": "stream",
     "text": [
      "\n",
      "\n",
      "Apple iPhone 16 (256 GB) - Ultramarino - Distribuidor Autorizado  - R$: 8.584 - Link: https://www.mercadolivre.com.br/apple-iphone-16-256-gb-ultramarino-distribuidor-autorizado/p/MLB1040287813#polycard_client=search-nordic&searchVariation=MLB1040287813&wid=MLB5217714602&position=10&search_layout=stack&type=product&tracking_id=18ab4ec8-49e4-4f41-9239-68a7b3eead1c&sid=search \n"
     ]
    },
    {
     "data": {
      "text/html": [
       "<img src=\"https://http2.mlstatic.com/D_Q_NP_2X_857610-MLA79138888985_092024-V.webp\" width=\"150\" height=\"150\"/>"
      ],
      "text/plain": [
       "<IPython.core.display.Image object>"
      ]
     },
     "metadata": {},
     "output_type": "display_data"
    },
    {
     "name": "stdout",
     "output_type": "stream",
     "text": [
      "\n",
      "\n",
      "Apple iPhone 16 (512 GB) - Verde-acinzentado - Distribuidor Autorizado  - R$: 10.081 - Link: https://www.mercadolivre.com.br/apple-iphone-16-512-gb-verde-acinzentado-distribuidor-autorizado/p/MLB1040287809#polycard_client=search-nordic&searchVariation=MLB1040287809&wid=MLB5217728262&position=11&search_layout=stack&type=product&tracking_id=18ab4ec8-49e4-4f41-9239-68a7b3eead1c&sid=search \n"
     ]
    },
    {
     "data": {
      "text/html": [
       "<img src=\"https://http2.mlstatic.com/D_Q_NP_2X_609117-MLA78900901098_092024-V.webp\" width=\"150\" height=\"150\"/>"
      ],
      "text/plain": [
       "<IPython.core.display.Image object>"
      ]
     },
     "metadata": {},
     "output_type": "display_data"
    },
    {
     "name": "stdout",
     "output_type": "stream",
     "text": [
      "\n",
      "\n",
      "Apple iPhone 16 (512 GB) - Ultramarino - Distribuidor Autorizado  - R$: 9.089 - Link: https://www.mercadolivre.com.br/apple-iphone-16-512-gb-ultramarino-distribuidor-autorizado/p/MLB1040287801#polycard_client=search-nordic&searchVariation=MLB1040287801&wid=MLB5217740718&position=12&search_layout=stack&type=product&tracking_id=18ab4ec8-49e4-4f41-9239-68a7b3eead1c&sid=search \n"
     ]
    },
    {
     "data": {
      "text/html": [
       "<img src=\"https://http2.mlstatic.com/D_Q_NP_2X_857610-MLA79138888985_092024-V.webp\" width=\"150\" height=\"150\"/>"
      ],
      "text/plain": [
       "<IPython.core.display.Image object>"
      ]
     },
     "metadata": {},
     "output_type": "display_data"
    },
    {
     "name": "stdout",
     "output_type": "stream",
     "text": [
      "\n",
      "\n",
      "Apple iPhone 16 (512 GB) - Branco  - R$: 11.411 - Link: https://www.mercadolivre.com.br/apple-iphone-16-512-gb-branco/p/MLB40287806#polycard_client=search-nordic&searchVariation=MLB40287806&wid=MLB3962146533&position=13&search_layout=stack&type=product&tracking_id=18ab4ec8-49e4-4f41-9239-68a7b3eead1c&sid=search \n"
     ]
    },
    {
     "data": {
      "text/html": [
       "<img src=\"https://http2.mlstatic.com/D_Q_NP_2X_894637-MLA79138856715_092024-V.webp\" width=\"150\" height=\"150\"/>"
      ],
      "text/plain": [
       "<IPython.core.display.Image object>"
      ]
     },
     "metadata": {},
     "output_type": "display_data"
    },
    {
     "name": "stdout",
     "output_type": "stream",
     "text": [
      "\n",
      "\n",
      "Apple iPhone 16 (128 GB) - Ultramarino - Distribuidor Autorizado  - R$: 11.007 - Link: https://www.mercadolivre.com.br/apple-iphone-16-128-gb-ultramarino-distribuidor-autorizado/p/MLB1040287800#polycard_client=search-nordic&searchVariation=MLB1040287800&wid=MLB3893171797&position=14&search_layout=stack&type=product&tracking_id=18ab4ec8-49e4-4f41-9239-68a7b3eead1c&sid=search \n"
     ]
    },
    {
     "data": {
      "text/html": [
       "<img src=\"https://http2.mlstatic.com/D_Q_NP_2X_857610-MLA79138888985_092024-V.webp\" width=\"150\" height=\"150\"/>"
      ],
      "text/plain": [
       "<IPython.core.display.Image object>"
      ]
     },
     "metadata": {},
     "output_type": "display_data"
    },
    {
     "name": "stdout",
     "output_type": "stream",
     "text": [
      "\n",
      "\n",
      "Apple iPhone 16 (512 GB) - Rosa - Distribuidor Autorizado  - R$: 6.199 - Link: https://www.mercadolivre.com.br/apple-iphone-16-512-gb-rosa-distribuidor-autorizado/p/MLB1040287810#polycard_client=search-nordic&searchVariation=MLB1040287810&wid=MLB5217681128&position=15&search_layout=stack&type=product&tracking_id=18ab4ec8-49e4-4f41-9239-68a7b3eead1c&sid=search \n"
     ]
    },
    {
     "data": {
      "text/html": [
       "<img src=\"https://http2.mlstatic.com/D_Q_NP_2X_653577-MLA79138737401_092024-V.webp\" width=\"150\" height=\"150\"/>"
      ],
      "text/plain": [
       "<IPython.core.display.Image object>"
      ]
     },
     "metadata": {},
     "output_type": "display_data"
    },
    {
     "name": "stdout",
     "output_type": "stream",
     "text": [
      "\n",
      "\n",
      "Apple iPhone 16 Plus 128g Lacrado 1 Ano De Garantia Novo  - R$: 9.997 - Link: https://produto.mercadolivre.com.br/MLB-3961626319-apple-iphone-16-plus-128g-lacrado-1-ano-de-garantia-novo-_JM?searchVariation=186812319161#polycard_client=search-nordic&searchVariation=186812319161&position=19&search_layout=stack&type=item&tracking_id=18ab4ec8-49e4-4f41-9239-68a7b3eead1c \n"
     ]
    },
    {
     "data": {
      "text/html": [
       "<img src=\"https://http2.mlstatic.com/D_Q_NP_2X_696904-MLB82066900191_012025-V.webp\" width=\"150\" height=\"150\"/>"
      ],
      "text/plain": [
       "<IPython.core.display.Image object>"
      ]
     },
     "metadata": {},
     "output_type": "display_data"
    },
    {
     "name": "stdout",
     "output_type": "stream",
     "text": [
      "\n",
      "\n",
      "Apple iPhone 16 (512 GB) - Branco - Distribuidor Autorizado  - R$: 8.299 - Link: https://www.mercadolivre.com.br/apple-iphone-16-512-gb-branco-distribuidor-autorizado/p/MLB1040287806#polycard_client=search-nordic&searchVariation=MLB1040287806&wid=MLB3962211201&position=16&search_layout=stack&type=product&tracking_id=18ab4ec8-49e4-4f41-9239-68a7b3eead1c&sid=search \n"
     ]
    },
    {
     "data": {
      "text/html": [
       "<img src=\"https://http2.mlstatic.com/D_Q_NP_2X_894637-MLA79138856715_092024-V.webp\" width=\"150\" height=\"150\"/>"
      ],
      "text/plain": [
       "<IPython.core.display.Image object>"
      ]
     },
     "metadata": {},
     "output_type": "display_data"
    },
    {
     "name": "stdout",
     "output_type": "stream",
     "text": [
      "\n",
      "\n",
      "Apple iPhone 16 (256 GB) - Preto - Distribuidor Autorizado  - R$: 11.411 - Link: https://www.mercadolivre.com.br/apple-iphone-16-256-gb-preto-distribuidor-autorizado/p/MLB1040287796#polycard_client=search-nordic&searchVariation=MLB1040287796&wid=MLB3931272075&position=17&search_layout=stack&type=product&tracking_id=18ab4ec8-49e4-4f41-9239-68a7b3eead1c&sid=search \n"
     ]
    },
    {
     "data": {
      "text/html": [
       "<img src=\"https://http2.mlstatic.com/D_Q_NP_2X_928475-MLA78901058072_092024-V.webp\" width=\"150\" height=\"150\"/>"
      ],
      "text/plain": [
       "<IPython.core.display.Image object>"
      ]
     },
     "metadata": {},
     "output_type": "display_data"
    },
    {
     "name": "stdout",
     "output_type": "stream",
     "text": [
      "\n",
      "\n",
      "Apple iPhone 16 (256 GB) - Branco - Distribuidor Autorizado  - R$: 11.007 - Link: https://www.mercadolivre.com.br/apple-iphone-16-256-gb-branco-distribuidor-autorizado/p/MLB1040287811#polycard_client=search-nordic&searchVariation=MLB1040287811&wid=MLB3931247749&position=18&search_layout=stack&type=product&tracking_id=18ab4ec8-49e4-4f41-9239-68a7b3eead1c&sid=search \n"
     ]
    },
    {
     "data": {
      "text/html": [
       "<img src=\"https://http2.mlstatic.com/D_Q_NP_2X_894637-MLA79138856715_092024-V.webp\" width=\"150\" height=\"150\"/>"
      ],
      "text/plain": [
       "<IPython.core.display.Image object>"
      ]
     },
     "metadata": {},
     "output_type": "display_data"
    },
    {
     "name": "stdout",
     "output_type": "stream",
     "text": [
      "\n",
      "\n",
      "Apple iPhone 16 128gb Branco Lacrado Garantia 1 Ano + Brinde  - R$: 7.739 - Link: https://produto.mercadolivre.com.br/MLB-5266618354-apple-iphone-16-128gb-branco-lacrado-garantia-1-ano-brinde-_JM?searchVariation=186793439907#polycard_client=search-nordic&searchVariation=186793439907&position=20&search_layout=stack&type=item&tracking_id=18ab4ec8-49e4-4f41-9239-68a7b3eead1c \n"
     ]
    },
    {
     "data": {
      "text/html": [
       "<img src=\"https://http2.mlstatic.com/D_Q_NP_2X_608047-MLB82085585195_012025-V.webp\" width=\"150\" height=\"150\"/>"
      ],
      "text/plain": [
       "<IPython.core.display.Image object>"
      ]
     },
     "metadata": {},
     "output_type": "display_data"
    },
    {
     "name": "stdout",
     "output_type": "stream",
     "text": [
      "\n",
      "\n",
      "Apple iPhone 16 128gb Preto Lacrado Garantia 1 Ano + Brinde  - R$: 6.999 - Link: https://produto.mercadolivre.com.br/MLB-5266640638-apple-iphone-16-128gb-preto-lacrado-garantia-1-ano-brinde-_JM?searchVariation=182804730934#polycard_client=search-nordic&searchVariation=182804730934&position=21&search_layout=stack&type=item&tracking_id=18ab4ec8-49e4-4f41-9239-68a7b3eead1c \n"
     ]
    },
    {
     "data": {
      "text/html": [
       "<img src=\"https://http2.mlstatic.com/D_Q_NP_2X_885232-MLB82084883271_012025-V.webp\" width=\"150\" height=\"150\"/>"
      ],
      "text/plain": [
       "<IPython.core.display.Image object>"
      ]
     },
     "metadata": {},
     "output_type": "display_data"
    },
    {
     "name": "stdout",
     "output_type": "stream",
     "text": [
      "\n",
      "\n",
      "Apple iPhone 16 128gb Preto Lacrado Garantia 1 Ano + Brinde  - R$: 6.999 - Link: https://produto.mercadolivre.com.br/MLB-3959987159-apple-iphone-16-128gb-preto-lacrado-garantia-1-ano-brinde-_JM?searchVariation=186798300379#polycard_client=search-nordic&searchVariation=186798300379&position=22&search_layout=stack&type=item&tracking_id=18ab4ec8-49e4-4f41-9239-68a7b3eead1c \n"
     ]
    },
    {
     "data": {
      "text/html": [
       "<img src=\"https://http2.mlstatic.com/D_Q_NP_2X_885232-MLB82084883271_012025-V.webp\" width=\"150\" height=\"150\"/>"
      ],
      "text/plain": [
       "<IPython.core.display.Image object>"
      ]
     },
     "metadata": {},
     "output_type": "display_data"
    },
    {
     "name": "stdout",
     "output_type": "stream",
     "text": [
      "\n",
      "\n",
      "Apple iPhone 16 128gb Branco Lacrado Garantia 1 Ano + Brinde  - R$: 7.299 - Link: https://produto.mercadolivre.com.br/MLB-5266682498-apple-iphone-16-128gb-branco-lacrado-garantia-1-ano-brinde-_JM?searchVariation=186793409179#polycard_client=search-nordic&searchVariation=186793409179&position=23&search_layout=stack&type=item&tracking_id=18ab4ec8-49e4-4f41-9239-68a7b3eead1c \n"
     ]
    },
    {
     "data": {
      "text/html": [
       "<img src=\"https://http2.mlstatic.com/D_Q_NP_2X_608047-MLB82085585195_012025-V.webp\" width=\"150\" height=\"150\"/>"
      ],
      "text/plain": [
       "<IPython.core.display.Image object>"
      ]
     },
     "metadata": {},
     "output_type": "display_data"
    },
    {
     "name": "stdout",
     "output_type": "stream",
     "text": [
      "\n",
      "\n",
      "Apple iPhone 16 128gb Rosa Lacrado Garantia 1 Ano + Brinde  - R$: 6.999 - Link: https://produto.mercadolivre.com.br/MLB-3958688191-apple-iphone-16-128gb-rosa-lacrado-garantia-1-ano-brinde-_JM?searchVariation=186792387997#polycard_client=search-nordic&searchVariation=186792387997&position=24&search_layout=stack&type=item&tracking_id=18ab4ec8-49e4-4f41-9239-68a7b3eead1c \n"
     ]
    },
    {
     "data": {
      "text/html": [
       "<img src=\"https://http2.mlstatic.com/D_Q_NP_2X_747801-MLB81801558390_012025-V.webp\" width=\"150\" height=\"150\"/>"
      ],
      "text/plain": [
       "<IPython.core.display.Image object>"
      ]
     },
     "metadata": {},
     "output_type": "display_data"
    },
    {
     "name": "stdout",
     "output_type": "stream",
     "text": [
      "\n",
      "\n",
      "Apple iPhone 16 128gb Rosa Lacrado Garantia 1 Ano + Brinde  - R$: 7.299 - Link: https://produto.mercadolivre.com.br/MLB-3958899907-apple-iphone-16-128gb-rosa-lacrado-garantia-1-ano-brinde-_JM?searchVariation=186792879261#polycard_client=search-nordic&searchVariation=186792879261&position=25&search_layout=stack&type=item&tracking_id=18ab4ec8-49e4-4f41-9239-68a7b3eead1c \n"
     ]
    },
    {
     "data": {
      "text/html": [
       "<img src=\"https://http2.mlstatic.com/D_Q_NP_2X_747801-MLB81801558390_012025-V.webp\" width=\"150\" height=\"150\"/>"
      ],
      "text/plain": [
       "<IPython.core.display.Image object>"
      ]
     },
     "metadata": {},
     "output_type": "display_data"
    },
    {
     "name": "stdout",
     "output_type": "stream",
     "text": [
      "\n",
      "\n",
      "Apple iPhone 16 128g Lacrado 1 Ano De Garantia Novo Tipo C  - R$: 6.699 - Link: https://produto.mercadolivre.com.br/MLB-3957971089-apple-iphone-16-128g-lacrado-1-ano-de-garantia-novo-tipo-c-_JM?searchVariation=186786562765#polycard_client=search-nordic&searchVariation=186786562765&position=26&search_layout=stack&type=item&tracking_id=18ab4ec8-49e4-4f41-9239-68a7b3eead1c \n"
     ]
    },
    {
     "data": {
      "text/html": [
       "<img src=\"https://http2.mlstatic.com/D_Q_NP_2X_696904-MLB82066900191_012025-V.webp\" width=\"150\" height=\"150\"/>"
      ],
      "text/plain": [
       "<IPython.core.display.Image object>"
      ]
     },
     "metadata": {},
     "output_type": "display_data"
    },
    {
     "name": "stdout",
     "output_type": "stream",
     "text": [
      "\n",
      "\n",
      "iPhone 16 - 128 Gb - Novo - Lacrado Na Caixa  - R$: 7.299 - Link: https://produto.mercadolivre.com.br/MLB-3881676191-iphone-16-128-gb-novo-lacrado-na-caixa-_JM?searchVariation=185555608915#polycard_client=search-nordic&searchVariation=185555608915&position=27&search_layout=stack&type=item&tracking_id=18ab4ec8-49e4-4f41-9239-68a7b3eead1c \n"
     ]
    },
    {
     "data": {
      "text/html": [
       "<img src=\"https://http2.mlstatic.com/D_Q_NP_2X_883478-MLB79812094958_102024-V.webp\" width=\"150\" height=\"150\"/>"
      ],
      "text/plain": [
       "<IPython.core.display.Image object>"
      ]
     },
     "metadata": {},
     "output_type": "display_data"
    },
    {
     "name": "stdout",
     "output_type": "stream",
     "text": [
      "\n",
      "\n",
      "iPhone 16 256gb Novo Lacrado  - R$: 7.099 - Link: https://produto.mercadolivre.com.br/MLB-5265617794-iphone-16-256gb-novo-lacrado-_JM?searchVariation=182800173184#polycard_client=search-nordic&searchVariation=182800173184&position=28&search_layout=stack&type=item&tracking_id=18ab4ec8-49e4-4f41-9239-68a7b3eead1c \n"
     ]
    },
    {
     "data": {
      "text/html": [
       "<img src=\"https://http2.mlstatic.com/D_Q_NP_2X_661799-MLB81788992572_012025-V.webp\" width=\"150\" height=\"150\"/>"
      ],
      "text/plain": [
       "<IPython.core.display.Image object>"
      ]
     },
     "metadata": {},
     "output_type": "display_data"
    },
    {
     "name": "stdout",
     "output_type": "stream",
     "text": [
      "\n",
      "\n",
      "Apple iPhone 16 128g Lacrado 1 Ano De Garantia Novo Tipo C  - R$: 6.699 - Link: https://produto.mercadolivre.com.br/MLB-3961581249-apple-iphone-16-128g-lacrado-1-ano-de-garantia-novo-tipo-c-_JM?searchVariation=182814722920#polycard_client=search-nordic&searchVariation=182814722920&position=29&search_layout=stack&type=item&tracking_id=18ab4ec8-49e4-4f41-9239-68a7b3eead1c \n"
     ]
    },
    {
     "data": {
      "text/html": [
       "<img src=\"https://http2.mlstatic.com/D_Q_NP_2X_696904-MLB82066900191_012025-V.webp\" width=\"150\" height=\"150\"/>"
      ],
      "text/plain": [
       "<IPython.core.display.Image object>"
      ]
     },
     "metadata": {},
     "output_type": "display_data"
    },
    {
     "name": "stdout",
     "output_type": "stream",
     "text": [
      "\n",
      "\n",
      "Apple iPhone 16 (128 GB) - Branco  - R$: 8.59 - Link: https://www.mercadolivre.com.br/apple-iphone-16-128-gb-branco/p/MLB40287791#polycard_client=search-nordic&searchVariation=MLB40287791&wid=MLB5266537536&position=3&search_layout=stack&type=product&tracking_id=18ab4ec8-49e4-4f41-9239-68a7b3eead1c&sid=search \n"
     ]
    },
    {
     "data": {
      "text/html": [
       "<img src=\"https://http2.mlstatic.com/D_Q_NP_2X_894637-MLA79138856715_092024-V.webp\" width=\"150\" height=\"150\"/>"
      ],
      "text/plain": [
       "<IPython.core.display.Image object>"
      ]
     },
     "metadata": {},
     "output_type": "display_data"
    },
    {
     "name": "stdout",
     "output_type": "stream",
     "text": [
      "\n",
      "\n",
      "\n",
      "-----------------------------------\n",
      "\n"
     ]
    },
    {
     "ename": "NoSuchWindowException",
     "evalue": "Message: no such window: target window already closed\nfrom unknown error: web view not found\n  (Session info: chrome=132.0.6834.111)\nStacktrace:\n\tGetHandleVerifier [0x00007FF6B172CC05+28741]\n\t(No symbol) [0x00007FF6B168FED0]\n\t(No symbol) [0x00007FF6B1524FBA]\n\t(No symbol) [0x00007FF6B14FED55]\n\t(No symbol) [0x00007FF6B15A6DE7]\n\t(No symbol) [0x00007FF6B15BF8B2]\n\t(No symbol) [0x00007FF6B159FBD3]\n\t(No symbol) [0x00007FF6B1569F43]\n\t(No symbol) [0x00007FF6B156B2D1]\n\tGetHandleVerifier [0x00007FF6B1A5DE3D+3375741]\n\tGetHandleVerifier [0x00007FF6B1A7096A+3452330]\n\tGetHandleVerifier [0x00007FF6B1A6671D+3410781]\n\tGetHandleVerifier [0x00007FF6B17F653B+854395]\n\t(No symbol) [0x00007FF6B169BE0F]\n\t(No symbol) [0x00007FF6B1697714]\n\t(No symbol) [0x00007FF6B16978AD]\n\t(No symbol) [0x00007FF6B1686189]\n\tBaseThreadInitThunk [0x00007FFB9336E8D7+23]\n\tRtlUserThreadStart [0x00007FFB9477FBCC+44]\n",
     "output_type": "error",
     "traceback": [
      "\u001b[1;31m---------------------------------------------------------------------------\u001b[0m",
      "\u001b[1;31mNoSuchWindowException\u001b[0m                     Traceback (most recent call last)",
      "Cell \u001b[1;32mIn[2], line 90\u001b[0m\n\u001b[0;32m     86\u001b[0m \u001b[38;5;28mprint\u001b[39m(\u001b[38;5;124m'\u001b[39m\u001b[38;5;130;01m\\n\u001b[39;00m\u001b[38;5;124m-----------------------------------\u001b[39m\u001b[38;5;130;01m\\n\u001b[39;00m\u001b[38;5;124m'\u001b[39m)\n\u001b[0;32m     88\u001b[0m driver\u001b[38;5;241m.\u001b[39mget(\u001b[38;5;124m\"\u001b[39m\u001b[38;5;124mhttps://www.amazon.com.br/ref=nav_logo\u001b[39m\u001b[38;5;124m\"\u001b[39m)\n\u001b[1;32m---> 90\u001b[0m pesquisa_amazon \u001b[38;5;241m=\u001b[39m \u001b[43mwait\u001b[49m\u001b[38;5;241;43m.\u001b[39;49m\u001b[43muntil\u001b[49m\u001b[43m(\u001b[49m\u001b[43mEC\u001b[49m\u001b[38;5;241;43m.\u001b[39;49m\u001b[43mpresence_of_element_located\u001b[49m\u001b[43m(\u001b[49m\u001b[43m(\u001b[49m\u001b[43mBy\u001b[49m\u001b[38;5;241;43m.\u001b[39;49m\u001b[43mXPATH\u001b[49m\u001b[43m,\u001b[49m\u001b[38;5;124;43m'\u001b[39;49m\u001b[38;5;124;43m//*[@id=\u001b[39;49m\u001b[38;5;124;43m\"\u001b[39;49m\u001b[38;5;124;43mtwotabsearchtextbox\u001b[39;49m\u001b[38;5;124;43m\"\u001b[39;49m\u001b[38;5;124;43m]\u001b[39;49m\u001b[38;5;124;43m'\u001b[39;49m\u001b[43m)\u001b[49m\u001b[43m)\u001b[49m\u001b[43m)\u001b[49m\n\u001b[0;32m     91\u001b[0m pesquisa_amazon\u001b[38;5;241m.\u001b[39msend_keys(\u001b[38;5;124m\"\u001b[39m\u001b[38;5;124mIphone 16\u001b[39m\u001b[38;5;124m\"\u001b[39m)\n\u001b[0;32m     92\u001b[0m pesquisa_amazon\u001b[38;5;241m.\u001b[39msend_keys(Keys\u001b[38;5;241m.\u001b[39mRETURN)\n",
      "File \u001b[1;32mc:\\Users\\Vitor\\AppData\\Local\\Programs\\Python\\Python312\\Lib\\site-packages\\selenium\\webdriver\\support\\wait.py:137\u001b[0m, in \u001b[0;36mWebDriverWait.until\u001b[1;34m(self, method, message)\u001b[0m\n\u001b[0;32m    135\u001b[0m \u001b[38;5;28;01mwhile\u001b[39;00m \u001b[38;5;28;01mTrue\u001b[39;00m:\n\u001b[0;32m    136\u001b[0m     \u001b[38;5;28;01mtry\u001b[39;00m:\n\u001b[1;32m--> 137\u001b[0m         value \u001b[38;5;241m=\u001b[39m \u001b[43mmethod\u001b[49m\u001b[43m(\u001b[49m\u001b[38;5;28;43mself\u001b[39;49m\u001b[38;5;241;43m.\u001b[39;49m\u001b[43m_driver\u001b[49m\u001b[43m)\u001b[49m\n\u001b[0;32m    138\u001b[0m         \u001b[38;5;28;01mif\u001b[39;00m value:\n\u001b[0;32m    139\u001b[0m             \u001b[38;5;28;01mreturn\u001b[39;00m value\n",
      "File \u001b[1;32mc:\\Users\\Vitor\\AppData\\Local\\Programs\\Python\\Python312\\Lib\\site-packages\\selenium\\webdriver\\support\\expected_conditions.py:110\u001b[0m, in \u001b[0;36mpresence_of_element_located.<locals>._predicate\u001b[1;34m(driver)\u001b[0m\n\u001b[0;32m    109\u001b[0m \u001b[38;5;28;01mdef\u001b[39;00m\u001b[38;5;250m \u001b[39m\u001b[38;5;21m_predicate\u001b[39m(driver: WebDriverOrWebElement):\n\u001b[1;32m--> 110\u001b[0m     \u001b[38;5;28;01mreturn\u001b[39;00m \u001b[43mdriver\u001b[49m\u001b[38;5;241;43m.\u001b[39;49m\u001b[43mfind_element\u001b[49m\u001b[43m(\u001b[49m\u001b[38;5;241;43m*\u001b[39;49m\u001b[43mlocator\u001b[49m\u001b[43m)\u001b[49m\n",
      "File \u001b[1;32mc:\\Users\\Vitor\\AppData\\Local\\Programs\\Python\\Python312\\Lib\\site-packages\\selenium\\webdriver\\remote\\webdriver.py:888\u001b[0m, in \u001b[0;36mWebDriver.find_element\u001b[1;34m(self, by, value)\u001b[0m\n\u001b[0;32m    885\u001b[0m         \u001b[38;5;28;01mraise\u001b[39;00m NoSuchElementException(\u001b[38;5;124mf\u001b[39m\u001b[38;5;124m\"\u001b[39m\u001b[38;5;124mCannot locate relative element with: \u001b[39m\u001b[38;5;132;01m{\u001b[39;00mby\u001b[38;5;241m.\u001b[39mroot\u001b[38;5;132;01m}\u001b[39;00m\u001b[38;5;124m\"\u001b[39m)\n\u001b[0;32m    886\u001b[0m     \u001b[38;5;28;01mreturn\u001b[39;00m elements[\u001b[38;5;241m0\u001b[39m]\n\u001b[1;32m--> 888\u001b[0m \u001b[38;5;28;01mreturn\u001b[39;00m \u001b[38;5;28;43mself\u001b[39;49m\u001b[38;5;241;43m.\u001b[39;49m\u001b[43mexecute\u001b[49m\u001b[43m(\u001b[49m\u001b[43mCommand\u001b[49m\u001b[38;5;241;43m.\u001b[39;49m\u001b[43mFIND_ELEMENT\u001b[49m\u001b[43m,\u001b[49m\u001b[43m \u001b[49m\u001b[43m{\u001b[49m\u001b[38;5;124;43m\"\u001b[39;49m\u001b[38;5;124;43musing\u001b[39;49m\u001b[38;5;124;43m\"\u001b[39;49m\u001b[43m:\u001b[49m\u001b[43m \u001b[49m\u001b[43mby\u001b[49m\u001b[43m,\u001b[49m\u001b[43m \u001b[49m\u001b[38;5;124;43m\"\u001b[39;49m\u001b[38;5;124;43mvalue\u001b[39;49m\u001b[38;5;124;43m\"\u001b[39;49m\u001b[43m:\u001b[49m\u001b[43m \u001b[49m\u001b[43mvalue\u001b[49m\u001b[43m}\u001b[49m\u001b[43m)\u001b[49m[\u001b[38;5;124m\"\u001b[39m\u001b[38;5;124mvalue\u001b[39m\u001b[38;5;124m\"\u001b[39m]\n",
      "File \u001b[1;32mc:\\Users\\Vitor\\AppData\\Local\\Programs\\Python\\Python312\\Lib\\site-packages\\selenium\\webdriver\\remote\\webdriver.py:429\u001b[0m, in \u001b[0;36mWebDriver.execute\u001b[1;34m(self, driver_command, params)\u001b[0m\n\u001b[0;32m    427\u001b[0m response \u001b[38;5;241m=\u001b[39m \u001b[38;5;28mself\u001b[39m\u001b[38;5;241m.\u001b[39mcommand_executor\u001b[38;5;241m.\u001b[39mexecute(driver_command, params)\n\u001b[0;32m    428\u001b[0m \u001b[38;5;28;01mif\u001b[39;00m response:\n\u001b[1;32m--> 429\u001b[0m     \u001b[38;5;28;43mself\u001b[39;49m\u001b[38;5;241;43m.\u001b[39;49m\u001b[43merror_handler\u001b[49m\u001b[38;5;241;43m.\u001b[39;49m\u001b[43mcheck_response\u001b[49m\u001b[43m(\u001b[49m\u001b[43mresponse\u001b[49m\u001b[43m)\u001b[49m\n\u001b[0;32m    430\u001b[0m     response[\u001b[38;5;124m\"\u001b[39m\u001b[38;5;124mvalue\u001b[39m\u001b[38;5;124m\"\u001b[39m] \u001b[38;5;241m=\u001b[39m \u001b[38;5;28mself\u001b[39m\u001b[38;5;241m.\u001b[39m_unwrap_value(response\u001b[38;5;241m.\u001b[39mget(\u001b[38;5;124m\"\u001b[39m\u001b[38;5;124mvalue\u001b[39m\u001b[38;5;124m\"\u001b[39m, \u001b[38;5;28;01mNone\u001b[39;00m))\n\u001b[0;32m    431\u001b[0m     \u001b[38;5;28;01mreturn\u001b[39;00m response\n",
      "File \u001b[1;32mc:\\Users\\Vitor\\AppData\\Local\\Programs\\Python\\Python312\\Lib\\site-packages\\selenium\\webdriver\\remote\\errorhandler.py:232\u001b[0m, in \u001b[0;36mErrorHandler.check_response\u001b[1;34m(self, response)\u001b[0m\n\u001b[0;32m    230\u001b[0m         alert_text \u001b[38;5;241m=\u001b[39m value[\u001b[38;5;124m\"\u001b[39m\u001b[38;5;124malert\u001b[39m\u001b[38;5;124m\"\u001b[39m]\u001b[38;5;241m.\u001b[39mget(\u001b[38;5;124m\"\u001b[39m\u001b[38;5;124mtext\u001b[39m\u001b[38;5;124m\"\u001b[39m)\n\u001b[0;32m    231\u001b[0m     \u001b[38;5;28;01mraise\u001b[39;00m exception_class(message, screen, stacktrace, alert_text)  \u001b[38;5;66;03m# type: ignore[call-arg]  # mypy is not smart enough here\u001b[39;00m\n\u001b[1;32m--> 232\u001b[0m \u001b[38;5;28;01mraise\u001b[39;00m exception_class(message, screen, stacktrace)\n",
      "\u001b[1;31mNoSuchWindowException\u001b[0m: Message: no such window: target window already closed\nfrom unknown error: web view not found\n  (Session info: chrome=132.0.6834.111)\nStacktrace:\n\tGetHandleVerifier [0x00007FF6B172CC05+28741]\n\t(No symbol) [0x00007FF6B168FED0]\n\t(No symbol) [0x00007FF6B1524FBA]\n\t(No symbol) [0x00007FF6B14FED55]\n\t(No symbol) [0x00007FF6B15A6DE7]\n\t(No symbol) [0x00007FF6B15BF8B2]\n\t(No symbol) [0x00007FF6B159FBD3]\n\t(No symbol) [0x00007FF6B1569F43]\n\t(No symbol) [0x00007FF6B156B2D1]\n\tGetHandleVerifier [0x00007FF6B1A5DE3D+3375741]\n\tGetHandleVerifier [0x00007FF6B1A7096A+3452330]\n\tGetHandleVerifier [0x00007FF6B1A6671D+3410781]\n\tGetHandleVerifier [0x00007FF6B17F653B+854395]\n\t(No symbol) [0x00007FF6B169BE0F]\n\t(No symbol) [0x00007FF6B1697714]\n\t(No symbol) [0x00007FF6B16978AD]\n\t(No symbol) [0x00007FF6B1686189]\n\tBaseThreadInitThunk [0x00007FFB9336E8D7+23]\n\tRtlUserThreadStart [0x00007FFB9477FBCC+44]\n"
     ]
    }
   ],
   "source": [
    "#Abertura de demanda \n",
    "\n",
    "import smtplib\n",
    "from email.mime.multipart import MIMEMultipart\n",
    "from email.mime.text import MIMEText\n",
    "from selenium import webdriver\n",
    "from selenium.webdriver.chrome.service import Service\n",
    "from selenium.webdriver.common.by import By\n",
    "from selenium.webdriver.support.ui import WebDriverWait\n",
    "from selenium.webdriver.support import expected_conditions as EC\n",
    "from selenium.webdriver.common.keys import Keys\n",
    "from IPython.display import Image, display  # Para exibir imagens no notebook\n",
    "\n",
    "\n",
    "# Configurações do servidor SMTP\n",
    "smtp_server = \"smtp.gmail.com\"\n",
    "smtp_port = 587\n",
    "\n",
    "# Suas credenciais\n",
    "email = \"vitoracavaco40@gmail.com\"  # Substitua pelo seu e-mail\n",
    "senha = \"\"  # Substitua pela sua senha (ou senha de app, se tiver 2FA ativado)\n",
    "\n",
    "# Caminho para o chromedriver\n",
    "driver_path = r\"C:\\Users\\Vitor\\Documents\\chromedriver-win64\\chromedriver.exe\"\n",
    "\n",
    "# Crie uma instância de Service passando o caminho do driver\n",
    "service = Service(driver_path)\n",
    "\n",
    "# Inicie o ChromeDriver com o serviço e as opções de download\n",
    "driver = webdriver.Chrome(service=service)\n",
    "\n",
    "print(\"Robo iniciando pesquisas......\\n\")\n",
    "\n",
    "# Acessa o site\n",
    "driver.get(\"https://lista.mercadolivre.com.br/celulares-telefones/celulares-smartphones/iphone/linha-iphone-16/iphone-16/novo/iphone-16_NoIndex_True#applied_filter_id%3DITEM_CONDITION%26applied_filter_name%3DCondi%C3%A7%C3%A3o%26applied_filter_order%3D4%26applied_value_id%3D2230284%26applied_value_name%3DNovo%26applied_value_order%3D1%26applied_value_results%3D17%26is_custom%3Dfalse\")\n",
    "\n",
    "driver.maximize_window()\n",
    "\n",
    "wait = WebDriverWait(driver, 40)\n",
    "\n",
    "array_preco_ml = []\n",
    "\n",
    "array_link_ml = []\n",
    "\n",
    "array_imagem_ml = []\n",
    "\n",
    "array_preco_amz = []\n",
    "\n",
    "array_link_amz = []\n",
    "\n",
    "array_imagem_amz = []\n",
    "\n",
    "lista_iphone_ml = wait.until(EC.presence_of_all_elements_located((By.XPATH,'//a[contains(@class, \"poly-component__title\")]')))\n",
    "\n",
    "preco_iphone_ml  = wait.until(EC.presence_of_all_elements_located((By.XPATH,'//div[contains(@class, \"poly-price__current\")]//span[contains(@class, \"andes-money-amount__fraction\")]')))\n",
    "\n",
    "imagem_iphone_ml = wait.until(EC.visibility_of_all_elements_located((By.XPATH,'//div[contains(@class, \"poly-card__portada\")]//img[contains(@class, \"poly-component__picture\")]')))\n",
    "\n",
    "link_iphone_ml  = wait.until(EC.presence_of_all_elements_located((By.XPATH,'//h3[contains(@class, \"poly-component__title-wrapper\")]//a[contains(@class, \"poly-component__title\")]')))\n",
    "\n",
    "print(\"--------- Mercado Livre ---------\\n\")\n",
    "\n",
    "for valor, lista in enumerate(lista_iphone_ml):\n",
    "\n",
    "    texto = lista.text\n",
    "\n",
    "    preco = float(preco_iphone_ml[valor].text)\n",
    "\n",
    "    driver.execute_script(\"arguments[0].scrollIntoView(true);\", imagem_iphone_ml[valor])\n",
    "\n",
    "    imagem = imagem_iphone_ml[valor].get_attribute(\"src\")\n",
    "\n",
    "    link  = link_iphone_ml[valor].get_attribute(\"href\")\n",
    "\n",
    "    print(f\"{texto}  - R$: {preco} - Link: {link} \")\n",
    "    #print(f\"{texto}  - R$: {preco} - url: {imagem}\")\n",
    "    display(Image(url=imagem, width=150, height=150))\n",
    "    print(\"\\n\")\n",
    "\n",
    "    if (preco == 5.698):\n",
    "\n",
    "        array_preco_ml.append(preco)\n",
    "        array_link_ml.append(link)\n",
    "        array_imagem_ml.append(imagem)\n",
    "\n",
    "print('\\n-----------------------------------\\n')\n",
    "\n",
    "driver.get(\"https://www.amazon.com.br/ref=nav_logo\")\n",
    "\n",
    "pesquisa_amazon = wait.until(EC.presence_of_element_located((By.XPATH,'//*[@id=\"twotabsearchtextbox\"]')))\n",
    "pesquisa_amazon.send_keys(\"Iphone 16\")\n",
    "pesquisa_amazon.send_keys(Keys.RETURN)\n",
    "\n",
    "lista_iphone_amz = wait.until(EC.presence_of_all_elements_located((By.XPATH,'//h2[contains(@class, \"a-size-base-plus a-spacing-none a-color-base a-text-normal\")]')))\n",
    "\n",
    "preco_iphone_amz = wait.until(EC.presence_of_all_elements_located((By.XPATH,'//span[contains(@class, \"a-price-whole\")]')))\n",
    "\n",
    "imagem_iphone_amz = wait.until(EC.visibility_of_all_elements_located((By.XPATH, '//div[contains(@class, \"a-section aok-relative s-image-square-aspect\")]//img[contains(@class,\"s-image\")]')))\n",
    "\n",
    "link_iphone_amz = wait.until(EC.visibility_of_all_elements_located((By.XPATH, '//a[contains(@class, \"a-link-normal s-line-clamp-4 s-link-style a-text-normal\")]')))\n",
    "\n",
    "print(\"--------- Amazon ---------\\n\")\n",
    "\n",
    "for i in range (8):\n",
    " \n",
    "    texto = (lista_iphone_amz[i].text).upper()\n",
    "\n",
    "    if \"IPHONE 16\" in texto:\n",
    "\n",
    "        preco = float(preco_iphone_amz[i].text)\n",
    "\n",
    "        imagem = imagem_iphone_amz[i].get_attribute(\"src\")\n",
    "\n",
    "        link  = link_iphone_amz[i].get_attribute(\"href\")\n",
    "\n",
    "        print(f\"{texto}  - R$: {preco} - Link: {link} \\n\")\n",
    "        \n",
    "        display(Image(url=imagem, width=150, height=150))\n",
    "\n",
    "        print(\"\\n\")\n",
    "\n",
    "        if (preco == 5.698):\n",
    "\n",
    "            array_preco_amz.append(preco)\n",
    "            array_link_amz.append(link)\n",
    "            array_imagem_amz.append(imagem)\n",
    "\n",
    "driver.quit()\n",
    "\n",
    "\n",
    "if array_preco_ml:\n",
    "\n",
    "  # Criação da mensagem\n",
    "    msg = MIMEMultipart()\n",
    "    msg['From'] = email\n",
    "    msg['To'] = \"vitoracavaco40@gmail.com\"  # Substitua pelo e-mail do destinatário\n",
    "    msg['Subject'] = \"Promoção Iphone\"\n",
    "\n",
    "    #valores = \", \".join(map(str,array_preco_ml))\n",
    "    \n",
    "    # Corpo do e-mail\n",
    "\n",
    "    corpo_email = f\"Promoção do Iphone 16 no mercado livre\\n\\n\"\n",
    "\n",
    "    for preco, link, imagem in zip(array_preco_ml, array_link_ml, array_imagem_ml):\n",
    "        corpo_email += f\"- Preço: R$ {preco}\\n\\n  Link: {link}\\n\\n  Imagem: {imagem}\\n\\n\"\n",
    "\n",
    "    msg.attach(MIMEText(corpo_email, 'plain'))\n",
    "\n",
    "    # Conectar ao servidor SMTP e enviar o e-mail\n",
    "    try:\n",
    "        # Estabelecendo conexão com o servidor SMsTP\n",
    "        server = smtplib.SMTP(smtp_server, smtp_port)\n",
    "        server.starttls()  # Ativa a criptografia TLS para segurança\n",
    "\n",
    "        # Login na conta\n",
    "        server.login(email, senha)\n",
    "\n",
    "        # Enviar o e-mail\n",
    "        server.sendmail(msg['From'], msg['To'], msg.as_string())\n",
    "\n",
    "        print(\"E-mail enviado com sucesso!\")\n",
    "\n",
    "    except Exception as e:\n",
    "        print(f\"Erro ao enviar o e-mail: {e}\")\n",
    "\n",
    "    finally:\n",
    "        # Fechar a conexão\n",
    "        server.quit()\n",
    "\n",
    "if array_preco_amz:\n",
    "    \n",
    "  # Criação da mensagem\n",
    "    msg = MIMEMultipart()\n",
    "    msg['From'] = email\n",
    "    msg['To'] = \"vitoracavaco40@gmail.com\"  # Substitua pelo e-mail do destinatário\n",
    "    msg['Subject'] = \"Promoção Iphone\"\n",
    "\n",
    "    #valores = \", \".join(map(str, array_preco_amz))\n",
    "\n",
    "    # Corpo do e-mail\n",
    "    corpo_email = f\"Promoção do Iphone 16 na amazon\\n\\n\"\n",
    "\n",
    "    for preco, link, imagem in zip(array_preco_amz, array_link_amz, array_imagem_amz):\n",
    "        corpo_email += f\"- Preço: R$ {preco}\\n\\n  Link: {link}\\n\\n  Imagem: {imagem}\\n\\n\"\n",
    "\n",
    "    msg.attach(MIMEText(corpo_email, 'plain'))\n",
    "\n",
    "    # Conectar ao servidor SMTP e enviar o e-mail\n",
    "    try:\n",
    "        # Estabelecendo conexão com o servidor SMTP\n",
    "        server = smtplib.SMTP(smtp_server, smtp_port)\n",
    "        server.starttls()  # Ativa a criptografia TLS para segurança\n",
    "\n",
    "        # Login na conta\n",
    "        server.login(email, senha)\n",
    "\n",
    "        # Enviar o e-mail\n",
    "        server.sendmail(msg['From'], msg['To'], msg.as_string())\n",
    "\n",
    "        print(\"E-mail enviado com sucesso!\")\n",
    "\n",
    "    except Exception as e:\n",
    "        print(f\"Erro ao enviar o e-mail: {e}\")\n",
    "\n",
    "    finally:\n",
    "        # Fechar a conexão\n",
    "        server.quit()        \n"
   ]
  }
 ],
 "metadata": {
  "kernelspec": {
   "display_name": "Python 3",
   "language": "python",
   "name": "python3"
  },
  "language_info": {
   "codemirror_mode": {
    "name": "ipython",
    "version": 3
   },
   "file_extension": ".py",
   "mimetype": "text/x-python",
   "name": "python",
   "nbconvert_exporter": "python",
   "pygments_lexer": "ipython3",
   "version": "3.12.7"
  }
 },
 "nbformat": 4,
 "nbformat_minor": 2
}
